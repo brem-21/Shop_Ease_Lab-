{
 "cells": [
  {
   "cell_type": "code",
   "execution_count": 1,
   "metadata": {},
   "outputs": [],
   "source": [
    "import os\n",
    "import numpy as np\n",
    "import pandas as pd\n",
    "import mysql.connector\n",
    "from mysql.connector import Error "
   ]
  },
  {
   "cell_type": "code",
   "execution_count": 2,
   "metadata": {},
   "outputs": [],
   "source": [
    "def get_data(path):\n",
    "    data = pd.read_csv(path)\n",
    "    return data"
   ]
  },
  {
   "cell_type": "code",
   "execution_count": 3,
   "metadata": {},
   "outputs": [],
   "source": [
    "def handle_missing_data(data):\n",
    "    for column in data.columns:\n",
    "        missing_count = data[column].isnull().sum()\n",
    "        print(f\"Missing Values in {column}: {missing_count}\")\n",
    "        if missing_count > 0:\n",
    "            data[column].fillna(data[column].mean(), inplace=True)\n",
    "        else:\n",
    "            print(f\"No missing values in column: '{column}'\")"
   ]
  },
  {
   "cell_type": "code",
   "execution_count": 4,
   "metadata": {},
   "outputs": [],
   "source": [
    "def handle_duplicated_values(data):\n",
    "    total_duplicated = data.duplicated().sum()\n",
    "    print(f\"Total duplicated rows: {total_duplicated}\")\n",
    "    if total_duplicated > 0:\n",
    "        data.drop_duplicated(inplace = True)\n",
    "        print(f\"Duplicates removed. New shape: {data.shape}\")\n",
    "    else:\n",
    "        print(\"No duplicated rows found\")"
   ]
  },
  {
   "cell_type": "code",
   "execution_count": 5,
   "metadata": {},
   "outputs": [
    {
     "name": "stdout",
     "output_type": "stream",
     "text": [
      "   customer_id  customer_name                email   join_date\n",
      "0            1  Alice Johnson    alice@example.com  2023-01-15\n",
      "1            2      Bob Smith      bob@example.com  2023-02-20\n",
      "2            3  Charlie Davis  charlie@example.com  2023-03-05\n",
      "3            4      David Lee    david@example.com  2023-03-10\n",
      "4            5     Eve Parker      eve@example.com  2023-04-01\n"
     ]
    }
   ],
   "source": [
    "customer_data = get_data(r'ShopEase Data\\customers.csv')\n",
    "print(customer_data.head())"
   ]
  },
  {
   "cell_type": "code",
   "execution_count": 6,
   "metadata": {},
   "outputs": [
    {
     "name": "stdout",
     "output_type": "stream",
     "text": [
      "Missing Values in customer_id: 0\n",
      "No missing values in column: 'customer_id'\n",
      "Missing Values in customer_name: 0\n",
      "No missing values in column: 'customer_name'\n",
      "Missing Values in email: 0\n",
      "No missing values in column: 'email'\n",
      "Missing Values in join_date: 0\n",
      "No missing values in column: 'join_date'\n"
     ]
    }
   ],
   "source": [
    "handle_missing_data(customer_data)"
   ]
  },
  {
   "cell_type": "code",
   "execution_count": 7,
   "metadata": {},
   "outputs": [
    {
     "data": {
      "text/plain": [
       "dtype('O')"
      ]
     },
     "execution_count": 7,
     "metadata": {},
     "output_type": "execute_result"
    }
   ],
   "source": [
    "customer_data['join_date'].dtype"
   ]
  },
  {
   "cell_type": "code",
   "execution_count": 8,
   "metadata": {},
   "outputs": [],
   "source": [
    "customer_data['join_date'] = pd.to_datetime(customer_data['join_date'])"
   ]
  },
  {
   "cell_type": "code",
   "execution_count": 9,
   "metadata": {},
   "outputs": [
    {
     "name": "stdout",
     "output_type": "stream",
     "text": [
      "<class 'pandas.core.frame.DataFrame'>\n",
      "RangeIndex: 50 entries, 0 to 49\n",
      "Data columns (total 4 columns):\n",
      " #   Column         Non-Null Count  Dtype         \n",
      "---  ------         --------------  -----         \n",
      " 0   customer_id    50 non-null     int64         \n",
      " 1   customer_name  50 non-null     object        \n",
      " 2   email          50 non-null     object        \n",
      " 3   join_date      50 non-null     datetime64[ns]\n",
      "dtypes: datetime64[ns](1), int64(1), object(2)\n",
      "memory usage: 1.7+ KB\n"
     ]
    }
   ],
   "source": [
    "customer_data.info()"
   ]
  },
  {
   "cell_type": "code",
   "execution_count": 10,
   "metadata": {},
   "outputs": [
    {
     "name": "stdout",
     "output_type": "stream",
     "text": [
      "Total duplicated rows: 0\n",
      "No duplicated rows found\n"
     ]
    }
   ],
   "source": [
    "handle_duplicated_values(customer_data)"
   ]
  },
  {
   "cell_type": "code",
   "execution_count": 11,
   "metadata": {},
   "outputs": [
    {
     "name": "stdout",
     "output_type": "stream",
     "text": [
      "     product_name  stock_quantity  stock_date    supplier warehouse_location\n",
      "0           Sugar             162   11/3/2024  Supplier D        Warehouse 3\n",
      "1          Tablet             243  10/30/2024  Supplier C        Warehouse 2\n",
      "2           Jeans             223  10/24/2024  Supplier B        Warehouse 3\n",
      "3  Women's Jacket             187   8/31/2024  Supplier E        Warehouse 3\n",
      "4         Blender             101   11/6/2024  Supplier E        Warehouse 1\n"
     ]
    }
   ],
   "source": [
    "inventory_data = get_data(r'ShopEase Data\\inventory.csv')\n",
    "print(inventory_data.head())"
   ]
  },
  {
   "cell_type": "code",
   "execution_count": 12,
   "metadata": {},
   "outputs": [
    {
     "name": "stdout",
     "output_type": "stream",
     "text": [
      "Missing Values in product_name: 0\n",
      "No missing values in column: 'product_name'\n",
      "Missing Values in stock_quantity: 0\n",
      "No missing values in column: 'stock_quantity'\n",
      "Missing Values in stock_date: 0\n",
      "No missing values in column: 'stock_date'\n",
      "Missing Values in supplier: 0\n",
      "No missing values in column: 'supplier'\n",
      "Missing Values in warehouse_location: 0\n",
      "No missing values in column: 'warehouse_location'\n"
     ]
    }
   ],
   "source": [
    "handle_missing_data(inventory_data)"
   ]
  },
  {
   "cell_type": "code",
   "execution_count": 13,
   "metadata": {},
   "outputs": [
    {
     "name": "stdout",
     "output_type": "stream",
     "text": [
      "Total duplicated rows: 0\n",
      "No duplicated rows found\n"
     ]
    }
   ],
   "source": [
    "handle_duplicated_values(inventory_data)"
   ]
  },
  {
   "cell_type": "code",
   "execution_count": 14,
   "metadata": {},
   "outputs": [
    {
     "name": "stdout",
     "output_type": "stream",
     "text": [
      "<class 'pandas.core.frame.DataFrame'>\n",
      "RangeIndex: 200 entries, 0 to 199\n",
      "Data columns (total 5 columns):\n",
      " #   Column              Non-Null Count  Dtype \n",
      "---  ------              --------------  ----- \n",
      " 0   product_name        200 non-null    object\n",
      " 1   stock_quantity      200 non-null    int64 \n",
      " 2   stock_date          200 non-null    object\n",
      " 3   supplier            200 non-null    object\n",
      " 4   warehouse_location  200 non-null    object\n",
      "dtypes: int64(1), object(4)\n",
      "memory usage: 7.9+ KB\n"
     ]
    }
   ],
   "source": [
    "inventory_data.info()"
   ]
  },
  {
   "cell_type": "code",
   "execution_count": 15,
   "metadata": {},
   "outputs": [],
   "source": [
    "inventory_data['stock_date'] = pd.to_datetime(inventory_data['stock_date'])\n"
   ]
  },
  {
   "cell_type": "code",
   "execution_count": 16,
   "metadata": {},
   "outputs": [
    {
     "name": "stdout",
     "output_type": "stream",
     "text": [
      "<class 'pandas.core.frame.DataFrame'>\n",
      "RangeIndex: 200 entries, 0 to 199\n",
      "Data columns (total 5 columns):\n",
      " #   Column              Non-Null Count  Dtype         \n",
      "---  ------              --------------  -----         \n",
      " 0   product_name        200 non-null    object        \n",
      " 1   stock_quantity      200 non-null    int64         \n",
      " 2   stock_date          200 non-null    datetime64[ns]\n",
      " 3   supplier            200 non-null    object        \n",
      " 4   warehouse_location  200 non-null    object        \n",
      "dtypes: datetime64[ns](1), int64(1), object(3)\n",
      "memory usage: 7.9+ KB\n"
     ]
    }
   ],
   "source": [
    "inventory_data.info()"
   ]
  },
  {
   "cell_type": "code",
   "execution_count": 17,
   "metadata": {},
   "outputs": [
    {
     "name": "stdout",
     "output_type": "stream",
     "text": [
      "   order_detail_id  order_id  quantity  product_id\n",
      "0                1         1         3          34\n",
      "1                2         1         2          47\n",
      "2                3         2         4          10\n",
      "3                4         2         3          77\n",
      "4                5         3         2          76\n"
     ]
    }
   ],
   "source": [
    "order_items_data = get_data(r'ShopEase Data\\order_items.csv')\n",
    "print(order_items_data.head())"
   ]
  },
  {
   "cell_type": "code",
   "execution_count": 18,
   "metadata": {},
   "outputs": [
    {
     "name": "stdout",
     "output_type": "stream",
     "text": [
      "Missing Values in order_detail_id: 0\n",
      "No missing values in column: 'order_detail_id'\n",
      "Missing Values in order_id: 0\n",
      "No missing values in column: 'order_id'\n",
      "Missing Values in quantity: 0\n",
      "No missing values in column: 'quantity'\n",
      "Missing Values in product_id: 0\n",
      "No missing values in column: 'product_id'\n"
     ]
    }
   ],
   "source": [
    "handle_missing_data(order_items_data)"
   ]
  },
  {
   "cell_type": "code",
   "execution_count": 19,
   "metadata": {},
   "outputs": [
    {
     "name": "stdout",
     "output_type": "stream",
     "text": [
      "Total duplicated rows: 0\n",
      "No duplicated rows found\n"
     ]
    }
   ],
   "source": [
    "handle_duplicated_values(order_items_data)"
   ]
  },
  {
   "cell_type": "code",
   "execution_count": 20,
   "metadata": {},
   "outputs": [
    {
     "name": "stdout",
     "output_type": "stream",
     "text": [
      "   order_id  Cutomer_id order_date  product_id  quantity\n",
      "0         1          20  11/1/2024           3         2\n",
      "1         2          36  11/1/2024           1         1\n",
      "2         3           1  11/1/2024           8         3\n",
      "3         4          36  11/2/2024           6         1\n",
      "4         5          14  11/2/2024          12         2\n"
     ]
    }
   ],
   "source": [
    "orders_data = get_data(r'ShopEase Data\\Orders.csv')\n",
    "print(orders_data.head())"
   ]
  },
  {
   "cell_type": "code",
   "execution_count": 21,
   "metadata": {},
   "outputs": [],
   "source": [
    "orders_data.rename(columns={'Cutomer_id': 'customer_id'}, inplace=True)"
   ]
  },
  {
   "cell_type": "code",
   "execution_count": 22,
   "metadata": {},
   "outputs": [
    {
     "name": "stdout",
     "output_type": "stream",
     "text": [
      "Missing Values in order_id: 0\n",
      "No missing values in column: 'order_id'\n",
      "Missing Values in customer_id: 0\n",
      "No missing values in column: 'customer_id'\n",
      "Missing Values in order_date: 0\n",
      "No missing values in column: 'order_date'\n",
      "Missing Values in product_id: 0\n",
      "No missing values in column: 'product_id'\n",
      "Missing Values in quantity: 0\n",
      "No missing values in column: 'quantity'\n"
     ]
    }
   ],
   "source": [
    "handle_missing_data(orders_data)"
   ]
  },
  {
   "cell_type": "code",
   "execution_count": 23,
   "metadata": {},
   "outputs": [],
   "source": [
    "orders_data['order_date'] = pd.to_datetime(orders_data['order_date'])"
   ]
  },
  {
   "cell_type": "code",
   "execution_count": 24,
   "metadata": {},
   "outputs": [
    {
     "name": "stdout",
     "output_type": "stream",
     "text": [
      "Total duplicated rows: 0\n",
      "No duplicated rows found\n"
     ]
    }
   ],
   "source": [
    "handle_duplicated_values(orders_data)"
   ]
  },
  {
   "cell_type": "code",
   "execution_count": 25,
   "metadata": {},
   "outputs": [
    {
     "name": "stdout",
     "output_type": "stream",
     "text": [
      "  supplier_name supplier_address                  email  contact_number  \\\n",
      "0    Supplier D      321 Pine St  supplierD@example.com      4567890123   \n",
      "1    Supplier D      321 Pine St  supplierD@example.com      4567890123   \n",
      "2    Supplier D      321 Pine St  supplierD@example.com      4567890123   \n",
      "3    Supplier A      123 Main St  supplierA@example.com      1234567890   \n",
      "4    Supplier D      321 Pine St  supplierD@example.com      4567890123   \n",
      "\n",
      "          fax  account_number  order_history contract supplier_country  \\\n",
      "0  3987654318        44445555            468       No          Germany   \n",
      "1  3987654318        44445555             61       No          Germany   \n",
      "2  3987654318        44445555             88       No          Germany   \n",
      "3   987654321        11112222            353      Yes              USA   \n",
      "4  3987654318        44445555            547       No          Germany   \n",
      "\n",
      "  supplier_city  country_code  \n",
      "0        Berlin            49  \n",
      "1        Berlin            49  \n",
      "2        Berlin            49  \n",
      "3      New York             1  \n",
      "4        Berlin            49  \n"
     ]
    }
   ],
   "source": [
    "suppliers_data = get_data(r'ShopEase Data\\suppliers_data.csv')\n",
    "print(suppliers_data.head())"
   ]
  },
  {
   "cell_type": "code",
   "execution_count": 26,
   "metadata": {},
   "outputs": [
    {
     "name": "stdout",
     "output_type": "stream",
     "text": [
      "Missing Values in supplier_name: 0\n",
      "No missing values in column: 'supplier_name'\n",
      "Missing Values in supplier_address: 0\n",
      "No missing values in column: 'supplier_address'\n",
      "Missing Values in email: 0\n",
      "No missing values in column: 'email'\n",
      "Missing Values in contact_number: 0\n",
      "No missing values in column: 'contact_number'\n",
      "Missing Values in fax: 0\n",
      "No missing values in column: 'fax'\n",
      "Missing Values in account_number: 0\n",
      "No missing values in column: 'account_number'\n",
      "Missing Values in order_history: 0\n",
      "No missing values in column: 'order_history'\n",
      "Missing Values in contract: 0\n",
      "No missing values in column: 'contract'\n",
      "Missing Values in supplier_country: 0\n",
      "No missing values in column: 'supplier_country'\n",
      "Missing Values in supplier_city: 0\n",
      "No missing values in column: 'supplier_city'\n",
      "Missing Values in country_code: 0\n",
      "No missing values in column: 'country_code'\n"
     ]
    }
   ],
   "source": [
    "handle_missing_data(suppliers_data)"
   ]
  },
  {
   "cell_type": "code",
   "execution_count": 27,
   "metadata": {},
   "outputs": [
    {
     "name": "stdout",
     "output_type": "stream",
     "text": [
      "Total duplicated rows: 0\n",
      "No duplicated rows found\n"
     ]
    }
   ],
   "source": [
    "handle_duplicated_values(suppliers_data)"
   ]
  },
  {
   "cell_type": "code",
   "execution_count": 28,
   "metadata": {},
   "outputs": [
    {
     "data": {
      "text/plain": [
       "Index(['supplier_name', 'supplier_address', 'email', 'contact_number', 'fax',\n",
       "       'account_number', 'order_history', 'contract', 'supplier_country',\n",
       "       'supplier_city', 'country_code'],\n",
       "      dtype='object')"
      ]
     },
     "execution_count": 28,
     "metadata": {},
     "output_type": "execute_result"
    }
   ],
   "source": [
    "suppliers_data.columns"
   ]
  },
  {
   "cell_type": "code",
   "execution_count": 29,
   "metadata": {},
   "outputs": [
    {
     "name": "stdout",
     "output_type": "stream",
     "text": [
      "   product_id    product_name     category   price\n",
      "0           1          Laptop  Electronics  1200.0\n",
      "1           2      Smartphone  Electronics   800.0\n",
      "2           3          Tablet  Electronics   450.0\n",
      "3           4  Wireless Mouse  Electronics    25.0\n",
      "4           5        Keyboard  Electronics    50.0\n"
     ]
    }
   ],
   "source": [
    "products_data = get_data(r'ShopEase Data\\products.csv')\n",
    "print(products_data.head())"
   ]
  },
  {
   "cell_type": "code",
   "execution_count": 30,
   "metadata": {},
   "outputs": [
    {
     "name": "stdout",
     "output_type": "stream",
     "text": [
      "Missing Values in product_id: 0\n",
      "No missing values in column: 'product_id'\n",
      "Missing Values in product_name: 0\n",
      "No missing values in column: 'product_name'\n",
      "Missing Values in category: 0\n",
      "No missing values in column: 'category'\n",
      "Missing Values in price: 0\n",
      "No missing values in column: 'price'\n"
     ]
    }
   ],
   "source": [
    "handle_missing_data(products_data)"
   ]
  },
  {
   "cell_type": "code",
   "execution_count": 31,
   "metadata": {},
   "outputs": [
    {
     "name": "stdout",
     "output_type": "stream",
     "text": [
      "Total duplicated rows: 0\n",
      "No duplicated rows found\n"
     ]
    }
   ],
   "source": [
    "handle_duplicated_values(products_data)"
   ]
  },
  {
   "cell_type": "code",
   "execution_count": 32,
   "metadata": {},
   "outputs": [
    {
     "data": {
      "text/plain": [
       "Index(['order_id', 'customer_id', 'order_date', 'product_id', 'quantity'], dtype='object')"
      ]
     },
     "execution_count": 32,
     "metadata": {},
     "output_type": "execute_result"
    }
   ],
   "source": [
    "orders_data.columns"
   ]
  },
  {
   "cell_type": "code",
   "execution_count": 33,
   "metadata": {},
   "outputs": [
    {
     "data": {
      "text/plain": [
       "Index(['product_id', 'product_name', 'category', 'price'], dtype='object')"
      ]
     },
     "execution_count": 33,
     "metadata": {},
     "output_type": "execute_result"
    }
   ],
   "source": [
    "products_data.columns"
   ]
  },
  {
   "cell_type": "code",
   "execution_count": 34,
   "metadata": {},
   "outputs": [
    {
     "data": {
      "text/plain": [
       "Index(['customer_id', 'customer_name', 'email', 'join_date'], dtype='object')"
      ]
     },
     "execution_count": 34,
     "metadata": {},
     "output_type": "execute_result"
    }
   ],
   "source": [
    "customer_data.columns"
   ]
  },
  {
   "cell_type": "code",
   "execution_count": 35,
   "metadata": {},
   "outputs": [
    {
     "name": "stdout",
     "output_type": "stream",
     "text": [
      "   order_id  customer_id order_date  product_id  quantity product_name  \\\n",
      "0         1           20 2024-11-01           3         2       Tablet   \n",
      "1         2           36 2024-11-01           1         1       Laptop   \n",
      "2         3            1 2024-11-01           8         3   Headphones   \n",
      "3         4           36 2024-11-02           6         1   Smartwatch   \n",
      "4         5           14 2024-11-02          12         2         Desk   \n",
      "\n",
      "      category   price  customer_name              email  join_date  \n",
      "0  Electronics   450.0     Tina Young   tina@example.com 2023-12-22  \n",
      "1  Electronics  1200.0   James Walker  james@example.com 2023-10-09  \n",
      "2  Electronics   150.0  Alice Johnson  alice@example.com 2023-01-15  \n",
      "3  Electronics   200.0   James Walker  james@example.com 2023-10-09  \n",
      "4    Furniture   300.0  Nina Mitchell   nina@example.com 2023-10-02  \n"
     ]
    }
   ],
   "source": [
    "sales = pd.merge(orders_data,  products_data, on=\"product_id\", how =  \"inner\")\n",
    "\n",
    "sales_data = pd.merge(sales, customer_data, on=\"customer_id\", how=\"inner\")\n",
    "print(sales_data.head())"
   ]
  },
  {
   "cell_type": "code",
   "execution_count": 36,
   "metadata": {},
   "outputs": [],
   "source": [
    "sales_data['year'] = sales_data['order_date'].dt.year\n",
    "sales_data['month'] = sales_data['order_date'].dt.month\n",
    "sales_data['day'] = sales_data['order_date'].dt.day"
   ]
  },
  {
   "cell_type": "code",
   "execution_count": 37,
   "metadata": {},
   "outputs": [
    {
     "data": {
      "text/html": [
       "<div>\n",
       "<style scoped>\n",
       "    .dataframe tbody tr th:only-of-type {\n",
       "        vertical-align: middle;\n",
       "    }\n",
       "\n",
       "    .dataframe tbody tr th {\n",
       "        vertical-align: top;\n",
       "    }\n",
       "\n",
       "    .dataframe thead th {\n",
       "        text-align: right;\n",
       "    }\n",
       "</style>\n",
       "<table border=\"1\" class=\"dataframe\">\n",
       "  <thead>\n",
       "    <tr style=\"text-align: right;\">\n",
       "      <th></th>\n",
       "      <th>order_id</th>\n",
       "      <th>customer_id</th>\n",
       "      <th>order_date</th>\n",
       "      <th>product_id</th>\n",
       "      <th>quantity</th>\n",
       "      <th>product_name</th>\n",
       "      <th>category</th>\n",
       "      <th>price</th>\n",
       "      <th>customer_name</th>\n",
       "      <th>email</th>\n",
       "      <th>join_date</th>\n",
       "      <th>year</th>\n",
       "      <th>month</th>\n",
       "      <th>day</th>\n",
       "    </tr>\n",
       "  </thead>\n",
       "  <tbody>\n",
       "    <tr>\n",
       "      <th>0</th>\n",
       "      <td>1</td>\n",
       "      <td>20</td>\n",
       "      <td>2024-11-01</td>\n",
       "      <td>3</td>\n",
       "      <td>2</td>\n",
       "      <td>Tablet</td>\n",
       "      <td>Electronics</td>\n",
       "      <td>450.0</td>\n",
       "      <td>Tina Young</td>\n",
       "      <td>tina@example.com</td>\n",
       "      <td>2023-12-22</td>\n",
       "      <td>2024</td>\n",
       "      <td>11</td>\n",
       "      <td>1</td>\n",
       "    </tr>\n",
       "    <tr>\n",
       "      <th>1</th>\n",
       "      <td>2</td>\n",
       "      <td>36</td>\n",
       "      <td>2024-11-01</td>\n",
       "      <td>1</td>\n",
       "      <td>1</td>\n",
       "      <td>Laptop</td>\n",
       "      <td>Electronics</td>\n",
       "      <td>1200.0</td>\n",
       "      <td>James Walker</td>\n",
       "      <td>james@example.com</td>\n",
       "      <td>2023-10-09</td>\n",
       "      <td>2024</td>\n",
       "      <td>11</td>\n",
       "      <td>1</td>\n",
       "    </tr>\n",
       "    <tr>\n",
       "      <th>2</th>\n",
       "      <td>3</td>\n",
       "      <td>1</td>\n",
       "      <td>2024-11-01</td>\n",
       "      <td>8</td>\n",
       "      <td>3</td>\n",
       "      <td>Headphones</td>\n",
       "      <td>Electronics</td>\n",
       "      <td>150.0</td>\n",
       "      <td>Alice Johnson</td>\n",
       "      <td>alice@example.com</td>\n",
       "      <td>2023-01-15</td>\n",
       "      <td>2024</td>\n",
       "      <td>11</td>\n",
       "      <td>1</td>\n",
       "    </tr>\n",
       "    <tr>\n",
       "      <th>3</th>\n",
       "      <td>4</td>\n",
       "      <td>36</td>\n",
       "      <td>2024-11-02</td>\n",
       "      <td>6</td>\n",
       "      <td>1</td>\n",
       "      <td>Smartwatch</td>\n",
       "      <td>Electronics</td>\n",
       "      <td>200.0</td>\n",
       "      <td>James Walker</td>\n",
       "      <td>james@example.com</td>\n",
       "      <td>2023-10-09</td>\n",
       "      <td>2024</td>\n",
       "      <td>11</td>\n",
       "      <td>2</td>\n",
       "    </tr>\n",
       "    <tr>\n",
       "      <th>4</th>\n",
       "      <td>5</td>\n",
       "      <td>14</td>\n",
       "      <td>2024-11-02</td>\n",
       "      <td>12</td>\n",
       "      <td>2</td>\n",
       "      <td>Desk</td>\n",
       "      <td>Furniture</td>\n",
       "      <td>300.0</td>\n",
       "      <td>Nina Mitchell</td>\n",
       "      <td>nina@example.com</td>\n",
       "      <td>2023-10-02</td>\n",
       "      <td>2024</td>\n",
       "      <td>11</td>\n",
       "      <td>2</td>\n",
       "    </tr>\n",
       "  </tbody>\n",
       "</table>\n",
       "</div>"
      ],
      "text/plain": [
       "   order_id  customer_id order_date  product_id  quantity product_name  \\\n",
       "0         1           20 2024-11-01           3         2       Tablet   \n",
       "1         2           36 2024-11-01           1         1       Laptop   \n",
       "2         3            1 2024-11-01           8         3   Headphones   \n",
       "3         4           36 2024-11-02           6         1   Smartwatch   \n",
       "4         5           14 2024-11-02          12         2         Desk   \n",
       "\n",
       "      category   price  customer_name              email  join_date  year  \\\n",
       "0  Electronics   450.0     Tina Young   tina@example.com 2023-12-22  2024   \n",
       "1  Electronics  1200.0   James Walker  james@example.com 2023-10-09  2024   \n",
       "2  Electronics   150.0  Alice Johnson  alice@example.com 2023-01-15  2024   \n",
       "3  Electronics   200.0   James Walker  james@example.com 2023-10-09  2024   \n",
       "4    Furniture   300.0  Nina Mitchell   nina@example.com 2023-10-02  2024   \n",
       "\n",
       "   month  day  \n",
       "0     11    1  \n",
       "1     11    1  \n",
       "2     11    1  \n",
       "3     11    2  \n",
       "4     11    2  "
      ]
     },
     "execution_count": 37,
     "metadata": {},
     "output_type": "execute_result"
    }
   ],
   "source": [
    "sales_data.head()"
   ]
  },
  {
   "cell_type": "code",
   "execution_count": 38,
   "metadata": {},
   "outputs": [
    {
     "data": {
      "text/html": [
       "<div>\n",
       "<style scoped>\n",
       "    .dataframe tbody tr th:only-of-type {\n",
       "        vertical-align: middle;\n",
       "    }\n",
       "\n",
       "    .dataframe tbody tr th {\n",
       "        vertical-align: top;\n",
       "    }\n",
       "\n",
       "    .dataframe thead th {\n",
       "        text-align: right;\n",
       "    }\n",
       "</style>\n",
       "<table border=\"1\" class=\"dataframe\">\n",
       "  <thead>\n",
       "    <tr style=\"text-align: right;\">\n",
       "      <th></th>\n",
       "      <th>order_id</th>\n",
       "      <th>customer_id</th>\n",
       "      <th>order_date</th>\n",
       "      <th>product_id</th>\n",
       "      <th>quantity</th>\n",
       "      <th>product_name</th>\n",
       "      <th>category</th>\n",
       "      <th>price</th>\n",
       "      <th>customer_name</th>\n",
       "      <th>email</th>\n",
       "      <th>join_date</th>\n",
       "      <th>year</th>\n",
       "      <th>month</th>\n",
       "      <th>day</th>\n",
       "    </tr>\n",
       "  </thead>\n",
       "  <tbody>\n",
       "    <tr>\n",
       "      <th>0</th>\n",
       "      <td>1</td>\n",
       "      <td>20</td>\n",
       "      <td>2024-11-01</td>\n",
       "      <td>3</td>\n",
       "      <td>2</td>\n",
       "      <td>Tablet</td>\n",
       "      <td>Electronics</td>\n",
       "      <td>450.0</td>\n",
       "      <td>Tina Young</td>\n",
       "      <td>tina@example.com</td>\n",
       "      <td>2023-12-22</td>\n",
       "      <td>2024</td>\n",
       "      <td>11</td>\n",
       "      <td>1</td>\n",
       "    </tr>\n",
       "    <tr>\n",
       "      <th>1</th>\n",
       "      <td>2</td>\n",
       "      <td>36</td>\n",
       "      <td>2024-11-01</td>\n",
       "      <td>1</td>\n",
       "      <td>1</td>\n",
       "      <td>Laptop</td>\n",
       "      <td>Electronics</td>\n",
       "      <td>1200.0</td>\n",
       "      <td>James Walker</td>\n",
       "      <td>james@example.com</td>\n",
       "      <td>2023-10-09</td>\n",
       "      <td>2024</td>\n",
       "      <td>11</td>\n",
       "      <td>1</td>\n",
       "    </tr>\n",
       "    <tr>\n",
       "      <th>2</th>\n",
       "      <td>3</td>\n",
       "      <td>1</td>\n",
       "      <td>2024-11-01</td>\n",
       "      <td>8</td>\n",
       "      <td>3</td>\n",
       "      <td>Headphones</td>\n",
       "      <td>Electronics</td>\n",
       "      <td>150.0</td>\n",
       "      <td>Alice Johnson</td>\n",
       "      <td>alice@example.com</td>\n",
       "      <td>2023-01-15</td>\n",
       "      <td>2024</td>\n",
       "      <td>11</td>\n",
       "      <td>1</td>\n",
       "    </tr>\n",
       "    <tr>\n",
       "      <th>3</th>\n",
       "      <td>4</td>\n",
       "      <td>36</td>\n",
       "      <td>2024-11-02</td>\n",
       "      <td>6</td>\n",
       "      <td>1</td>\n",
       "      <td>Smartwatch</td>\n",
       "      <td>Electronics</td>\n",
       "      <td>200.0</td>\n",
       "      <td>James Walker</td>\n",
       "      <td>james@example.com</td>\n",
       "      <td>2023-10-09</td>\n",
       "      <td>2024</td>\n",
       "      <td>11</td>\n",
       "      <td>2</td>\n",
       "    </tr>\n",
       "    <tr>\n",
       "      <th>4</th>\n",
       "      <td>5</td>\n",
       "      <td>14</td>\n",
       "      <td>2024-11-02</td>\n",
       "      <td>12</td>\n",
       "      <td>2</td>\n",
       "      <td>Desk</td>\n",
       "      <td>Furniture</td>\n",
       "      <td>300.0</td>\n",
       "      <td>Nina Mitchell</td>\n",
       "      <td>nina@example.com</td>\n",
       "      <td>2023-10-02</td>\n",
       "      <td>2024</td>\n",
       "      <td>11</td>\n",
       "      <td>2</td>\n",
       "    </tr>\n",
       "  </tbody>\n",
       "</table>\n",
       "</div>"
      ],
      "text/plain": [
       "   order_id  customer_id order_date  product_id  quantity product_name  \\\n",
       "0         1           20 2024-11-01           3         2       Tablet   \n",
       "1         2           36 2024-11-01           1         1       Laptop   \n",
       "2         3            1 2024-11-01           8         3   Headphones   \n",
       "3         4           36 2024-11-02           6         1   Smartwatch   \n",
       "4         5           14 2024-11-02          12         2         Desk   \n",
       "\n",
       "      category   price  customer_name              email  join_date  year  \\\n",
       "0  Electronics   450.0     Tina Young   tina@example.com 2023-12-22  2024   \n",
       "1  Electronics  1200.0   James Walker  james@example.com 2023-10-09  2024   \n",
       "2  Electronics   150.0  Alice Johnson  alice@example.com 2023-01-15  2024   \n",
       "3  Electronics   200.0   James Walker  james@example.com 2023-10-09  2024   \n",
       "4    Furniture   300.0  Nina Mitchell   nina@example.com 2023-10-02  2024   \n",
       "\n",
       "   month  day  \n",
       "0     11    1  \n",
       "1     11    1  \n",
       "2     11    1  \n",
       "3     11    2  \n",
       "4     11    2  "
      ]
     },
     "execution_count": 38,
     "metadata": {},
     "output_type": "execute_result"
    }
   ],
   "source": [
    "sales_data.head()"
   ]
  },
  {
   "cell_type": "code",
   "execution_count": 39,
   "metadata": {},
   "outputs": [],
   "source": [
    "sales_data['total_revenue'] = np.multiply(sales_data['quantity'], sales_data['price'])"
   ]
  },
  {
   "cell_type": "code",
   "execution_count": 40,
   "metadata": {},
   "outputs": [
    {
     "data": {
      "text/html": [
       "<div>\n",
       "<style scoped>\n",
       "    .dataframe tbody tr th:only-of-type {\n",
       "        vertical-align: middle;\n",
       "    }\n",
       "\n",
       "    .dataframe tbody tr th {\n",
       "        vertical-align: top;\n",
       "    }\n",
       "\n",
       "    .dataframe thead th {\n",
       "        text-align: right;\n",
       "    }\n",
       "</style>\n",
       "<table border=\"1\" class=\"dataframe\">\n",
       "  <thead>\n",
       "    <tr style=\"text-align: right;\">\n",
       "      <th></th>\n",
       "      <th>order_id</th>\n",
       "      <th>customer_id</th>\n",
       "      <th>order_date</th>\n",
       "      <th>product_id</th>\n",
       "      <th>quantity</th>\n",
       "      <th>product_name</th>\n",
       "      <th>category</th>\n",
       "      <th>price</th>\n",
       "      <th>customer_name</th>\n",
       "      <th>email</th>\n",
       "      <th>join_date</th>\n",
       "      <th>year</th>\n",
       "      <th>month</th>\n",
       "      <th>day</th>\n",
       "      <th>total_revenue</th>\n",
       "    </tr>\n",
       "  </thead>\n",
       "  <tbody>\n",
       "    <tr>\n",
       "      <th>0</th>\n",
       "      <td>1</td>\n",
       "      <td>20</td>\n",
       "      <td>2024-11-01</td>\n",
       "      <td>3</td>\n",
       "      <td>2</td>\n",
       "      <td>Tablet</td>\n",
       "      <td>Electronics</td>\n",
       "      <td>450.0</td>\n",
       "      <td>Tina Young</td>\n",
       "      <td>tina@example.com</td>\n",
       "      <td>2023-12-22</td>\n",
       "      <td>2024</td>\n",
       "      <td>11</td>\n",
       "      <td>1</td>\n",
       "      <td>900.0</td>\n",
       "    </tr>\n",
       "    <tr>\n",
       "      <th>1</th>\n",
       "      <td>2</td>\n",
       "      <td>36</td>\n",
       "      <td>2024-11-01</td>\n",
       "      <td>1</td>\n",
       "      <td>1</td>\n",
       "      <td>Laptop</td>\n",
       "      <td>Electronics</td>\n",
       "      <td>1200.0</td>\n",
       "      <td>James Walker</td>\n",
       "      <td>james@example.com</td>\n",
       "      <td>2023-10-09</td>\n",
       "      <td>2024</td>\n",
       "      <td>11</td>\n",
       "      <td>1</td>\n",
       "      <td>1200.0</td>\n",
       "    </tr>\n",
       "    <tr>\n",
       "      <th>2</th>\n",
       "      <td>3</td>\n",
       "      <td>1</td>\n",
       "      <td>2024-11-01</td>\n",
       "      <td>8</td>\n",
       "      <td>3</td>\n",
       "      <td>Headphones</td>\n",
       "      <td>Electronics</td>\n",
       "      <td>150.0</td>\n",
       "      <td>Alice Johnson</td>\n",
       "      <td>alice@example.com</td>\n",
       "      <td>2023-01-15</td>\n",
       "      <td>2024</td>\n",
       "      <td>11</td>\n",
       "      <td>1</td>\n",
       "      <td>450.0</td>\n",
       "    </tr>\n",
       "    <tr>\n",
       "      <th>3</th>\n",
       "      <td>4</td>\n",
       "      <td>36</td>\n",
       "      <td>2024-11-02</td>\n",
       "      <td>6</td>\n",
       "      <td>1</td>\n",
       "      <td>Smartwatch</td>\n",
       "      <td>Electronics</td>\n",
       "      <td>200.0</td>\n",
       "      <td>James Walker</td>\n",
       "      <td>james@example.com</td>\n",
       "      <td>2023-10-09</td>\n",
       "      <td>2024</td>\n",
       "      <td>11</td>\n",
       "      <td>2</td>\n",
       "      <td>200.0</td>\n",
       "    </tr>\n",
       "    <tr>\n",
       "      <th>4</th>\n",
       "      <td>5</td>\n",
       "      <td>14</td>\n",
       "      <td>2024-11-02</td>\n",
       "      <td>12</td>\n",
       "      <td>2</td>\n",
       "      <td>Desk</td>\n",
       "      <td>Furniture</td>\n",
       "      <td>300.0</td>\n",
       "      <td>Nina Mitchell</td>\n",
       "      <td>nina@example.com</td>\n",
       "      <td>2023-10-02</td>\n",
       "      <td>2024</td>\n",
       "      <td>11</td>\n",
       "      <td>2</td>\n",
       "      <td>600.0</td>\n",
       "    </tr>\n",
       "  </tbody>\n",
       "</table>\n",
       "</div>"
      ],
      "text/plain": [
       "   order_id  customer_id order_date  product_id  quantity product_name  \\\n",
       "0         1           20 2024-11-01           3         2       Tablet   \n",
       "1         2           36 2024-11-01           1         1       Laptop   \n",
       "2         3            1 2024-11-01           8         3   Headphones   \n",
       "3         4           36 2024-11-02           6         1   Smartwatch   \n",
       "4         5           14 2024-11-02          12         2         Desk   \n",
       "\n",
       "      category   price  customer_name              email  join_date  year  \\\n",
       "0  Electronics   450.0     Tina Young   tina@example.com 2023-12-22  2024   \n",
       "1  Electronics  1200.0   James Walker  james@example.com 2023-10-09  2024   \n",
       "2  Electronics   150.0  Alice Johnson  alice@example.com 2023-01-15  2024   \n",
       "3  Electronics   200.0   James Walker  james@example.com 2023-10-09  2024   \n",
       "4    Furniture   300.0  Nina Mitchell   nina@example.com 2023-10-02  2024   \n",
       "\n",
       "   month  day  total_revenue  \n",
       "0     11    1          900.0  \n",
       "1     11    1         1200.0  \n",
       "2     11    1          450.0  \n",
       "3     11    2          200.0  \n",
       "4     11    2          600.0  "
      ]
     },
     "execution_count": 40,
     "metadata": {},
     "output_type": "execute_result"
    }
   ],
   "source": [
    "sales_data.head()"
   ]
  },
  {
   "cell_type": "code",
   "execution_count": 41,
   "metadata": {},
   "outputs": [
    {
     "name": "stdout",
     "output_type": "stream",
     "text": [
      "<class 'pandas.core.frame.DataFrame'>\n",
      "RangeIndex: 570 entries, 0 to 569\n",
      "Data columns (total 15 columns):\n",
      " #   Column         Non-Null Count  Dtype         \n",
      "---  ------         --------------  -----         \n",
      " 0   order_id       570 non-null    int64         \n",
      " 1   customer_id    570 non-null    int64         \n",
      " 2   order_date     570 non-null    datetime64[ns]\n",
      " 3   product_id     570 non-null    int64         \n",
      " 4   quantity       570 non-null    int64         \n",
      " 5   product_name   570 non-null    object        \n",
      " 6   category       570 non-null    object        \n",
      " 7   price          570 non-null    float64       \n",
      " 8   customer_name  570 non-null    object        \n",
      " 9   email          570 non-null    object        \n",
      " 10  join_date      570 non-null    datetime64[ns]\n",
      " 11  year           570 non-null    int32         \n",
      " 12  month          570 non-null    int32         \n",
      " 13  day            570 non-null    int32         \n",
      " 14  total_revenue  570 non-null    float64       \n",
      "dtypes: datetime64[ns](2), float64(2), int32(3), int64(4), object(4)\n",
      "memory usage: 60.2+ KB\n"
     ]
    }
   ],
   "source": [
    "sales_data.info()"
   ]
  },
  {
   "cell_type": "code",
   "execution_count": 42,
   "metadata": {},
   "outputs": [],
   "source": [
    "monthly_sales = sales_data.groupby('month').total_revenue.sum().reset_index()"
   ]
  },
  {
   "cell_type": "code",
   "execution_count": 43,
   "metadata": {},
   "outputs": [
    {
     "data": {
      "text/html": [
       "<div>\n",
       "<style scoped>\n",
       "    .dataframe tbody tr th:only-of-type {\n",
       "        vertical-align: middle;\n",
       "    }\n",
       "\n",
       "    .dataframe tbody tr th {\n",
       "        vertical-align: top;\n",
       "    }\n",
       "\n",
       "    .dataframe thead th {\n",
       "        text-align: right;\n",
       "    }\n",
       "</style>\n",
       "<table border=\"1\" class=\"dataframe\">\n",
       "  <thead>\n",
       "    <tr style=\"text-align: right;\">\n",
       "      <th></th>\n",
       "      <th>month</th>\n",
       "      <th>total_revenue</th>\n",
       "    </tr>\n",
       "  </thead>\n",
       "  <tbody>\n",
       "    <tr>\n",
       "      <th>0</th>\n",
       "      <td>1</td>\n",
       "      <td>22080.5</td>\n",
       "    </tr>\n",
       "    <tr>\n",
       "      <th>1</th>\n",
       "      <td>2</td>\n",
       "      <td>18950.0</td>\n",
       "    </tr>\n",
       "    <tr>\n",
       "      <th>2</th>\n",
       "      <td>3</td>\n",
       "      <td>5182.0</td>\n",
       "    </tr>\n",
       "    <tr>\n",
       "      <th>3</th>\n",
       "      <td>11</td>\n",
       "      <td>70954.5</td>\n",
       "    </tr>\n",
       "    <tr>\n",
       "      <th>4</th>\n",
       "      <td>12</td>\n",
       "      <td>61903.5</td>\n",
       "    </tr>\n",
       "  </tbody>\n",
       "</table>\n",
       "</div>"
      ],
      "text/plain": [
       "   month  total_revenue\n",
       "0      1        22080.5\n",
       "1      2        18950.0\n",
       "2      3         5182.0\n",
       "3     11        70954.5\n",
       "4     12        61903.5"
      ]
     },
     "execution_count": 43,
     "metadata": {},
     "output_type": "execute_result"
    }
   ],
   "source": [
    "monthly_sales"
   ]
  },
  {
   "cell_type": "code",
   "execution_count": 44,
   "metadata": {},
   "outputs": [
    {
     "data": {
      "text/plain": [
       "([<matplotlib.axis.XTick at 0x299515934d0>,\n",
       "  <matplotlib.axis.XTick at 0x299515934a0>,\n",
       "  <matplotlib.axis.XTick at 0x29951592ae0>,\n",
       "  <matplotlib.axis.XTick at 0x299515bf9e0>,\n",
       "  <matplotlib.axis.XTick at 0x299515f4320>,\n",
       "  <matplotlib.axis.XTick at 0x299515f4c80>,\n",
       "  <matplotlib.axis.XTick at 0x299515f5670>,\n",
       "  <matplotlib.axis.XTick at 0x299515f6030>,\n",
       "  <matplotlib.axis.XTick at 0x299514f4f80>,\n",
       "  <matplotlib.axis.XTick at 0x299515f4f20>,\n",
       "  <matplotlib.axis.XTick at 0x299515f7080>,\n",
       "  <matplotlib.axis.XTick at 0x299515f7a40>],\n",
       " [Text(1, 0, 'January(1)'),\n",
       "  Text(2, 0, 'February(2)'),\n",
       "  Text(3, 0, 'March(3)'),\n",
       "  Text(4, 0, 'April(4)'),\n",
       "  Text(5, 0, 'May(5)'),\n",
       "  Text(6, 0, 'June(6)'),\n",
       "  Text(7, 0, 'July(7)'),\n",
       "  Text(8, 0, 'August(8)'),\n",
       "  Text(9, 0, 'September(9)'),\n",
       "  Text(10, 0, 'October(10)'),\n",
       "  Text(11, 0, 'November(11)'),\n",
       "  Text(12, 0, 'December(12)')])"
      ]
     },
     "execution_count": 44,
     "metadata": {},
     "output_type": "execute_result"
    },
    {
     "data": {
      "image/png": "[encoded data removed]",
      "text/plain": [
       "<Figure size 1000x500 with 1 Axes>"
      ]
     },
     "metadata": {},
     "output_type": "display_data"
    }
   ],
   "source": [
    "import matplotlib.pyplot as plt\n",
    "\n",
    "\n",
    "month_names = ['January(1)', 'February(2)', 'March(3)', 'April(4)', 'May(5)', 'June(6)', 'July(7)', 'August(8)', \n",
    "               'September(9)', 'October(10)', 'November(11)', 'December(12)']\n",
    "plt.figure(figsize=(10, 5))\n",
    "plt.plot(monthly_sales['month'], monthly_sales['total_revenue'], marker='o')\n",
    "plt.title('Monthly Sales Trend')\n",
    "plt.xlabel('Month')\n",
    "plt.ylabel('Total Revenue')\n",
    "plt.grid()\n",
    "plt.xticks(ticks=range(1, 13), labels=month_names, rotation=45)"
   ]
  },
  {
   "cell_type": "code",
   "execution_count": 45,
   "metadata": {},
   "outputs": [],
   "source": [
    "def create_server_connection(hostname, user_name, password, database):\n",
    "  connection = None\n",
    "  try:\n",
    "    connection = mysql.connector.connect(\n",
    "        host = hostname,\n",
    "        user = user_name,\n",
    "        passwd = password,\n",
    "        database = database\n",
    "    )\n",
    "    print(\"Connected Successfully\")\n",
    "  except Error as err:\n",
    "    print(f\"Connection Failed: {err}\")\n",
    "  return connection"
   ]
  },
  {
   "cell_type": "code",
   "execution_count": 46,
   "metadata": {},
   "outputs": [
    {
     "name": "stdout",
     "output_type": "stream",
     "text": [
      "Connected Successfully\n"
     ]
    }
   ],
   "source": [
    "connection = create_server_connection(\"localhost\", os.environ.get('DB_USER'), os.environ.get('DB_PASSWORD'), \"shop_ease\")"
   ]
  },
  {
   "cell_type": "code",
   "execution_count": 47,
   "metadata": {},
   "outputs": [],
   "source": [
    "def create_database(connection, query):\n",
    "    cursor = connection.cursor()\n",
    "    try:\n",
    "        cursor.execute(query)\n",
    "        print(\"Database created Successfully\")\n",
    "    except Error as err:\n",
    "        print(f\"Error: '{err}'\")"
   ]
  },
  {
   "cell_type": "code",
   "execution_count": 48,
   "metadata": {},
   "outputs": [],
   "source": [
    "create_database_query = \"CREATE DATABASE SHOP_EASE\"\n",
    "use_sales_data = \"USE SHOP_EASE\""
   ]
  },
  {
   "cell_type": "code",
   "execution_count": 49,
   "metadata": {},
   "outputs": [
    {
     "name": "stdout",
     "output_type": "stream",
     "text": [
      "Error: '1007 (HY000): Can't create database 'shop_ease'; database exists'\n"
     ]
    }
   ],
   "source": [
    "create_database(connection, create_database_query)"
   ]
  },
  {
   "cell_type": "code",
   "execution_count": 50,
   "metadata": {},
   "outputs": [],
   "source": [
    "def execute_query(connection, query):\n",
    "    cursor = connection.cursor()\n",
    "    try:\n",
    "        cursor.execute(query)\n",
    "        connection.commit()\n",
    "        print(\"Query was successful\")\n",
    "    except Error as err:\n",
    "        print(f\"Error: {err}\")"
   ]
  },
  {
   "cell_type": "code",
   "execution_count": 51,
   "metadata": {},
   "outputs": [
    {
     "name": "stdout",
     "output_type": "stream",
     "text": [
      "Query was successful\n"
     ]
    }
   ],
   "source": [
    "execute_query(connection, use_sales_data)"
   ]
  },
  {
   "cell_type": "code",
   "execution_count": 52,
   "metadata": {},
   "outputs": [
    {
     "data": {
      "text/plain": [
       "Index(['order_id', 'customer_id', 'order_date', 'product_id', 'quantity',\n",
       "       'product_name', 'category', 'price', 'customer_name', 'email',\n",
       "       'join_date', 'year', 'month', 'day', 'total_revenue'],\n",
       "      dtype='object')"
      ]
     },
     "execution_count": 52,
     "metadata": {},
     "output_type": "execute_result"
    }
   ],
   "source": [
    "sales_data.columns"
   ]
  },
  {
   "cell_type": "code",
   "execution_count": 53,
   "metadata": {},
   "outputs": [],
   "source": [
    "cursor = connection.cursor()"
   ]
  },
  {
   "cell_type": "code",
   "execution_count": 54,
   "metadata": {},
   "outputs": [],
   "source": [
    "\n",
    "def insert_sales_data(sales_data):\n",
    "    try:\n",
    "        if connection.is_connected():\n",
    "            cursor = connection.cursor()\n",
    "            insert_query = \"\"\"\n",
    "            INSERT INTO sales (customer_id, customer_name, email, join_date, order_id,\n",
    "                                          order_date, product_id, quantity, product_name, category, \n",
    "                                          price, year, month, day, total_revenue)\n",
    "            VALUES (%s, %s, %s, %s, %s, %s, %s, %s, %s, %s, %s, %s, %s, %s, %s);\n",
    "            \"\"\"\n",
    "            data_to_insert = []\n",
    "\n",
    "            for index, row in sales_data.iterrows():\n",
    "                data_to_insert.append((\n",
    "                    row['customer_id'], row['customer_name'], row['email'], row['join_date'], row['order_id'],\n",
    "                    row['order_date'], row['product_id'], row['quantity'], row['product_name'], row['category'],\n",
    "                    row['price'], row['year'], row['month'], row['day'], row['total_revenue']\n",
    "                ))\n",
    "\n",
    "            cursor.executemany(insert_query, data_to_insert)\n",
    "            connection.commit()\n",
    "\n",
    "    except Error as e:\n",
    "        print(f\"Error: {e}\")\n",
    "        connection.rollback()\n",
    "        # Optionally, implement reconnection logic here\n",
    "\n",
    "    finally:\n",
    "        if connection and connection.is_connected():\n",
    "            cursor.close()\n",
    "\n",
    "# Example usage:\n",
    "# insert_sales_data(sales_data)"
   ]
  },
  {
   "cell_type": "code",
   "execution_count": 55,
   "metadata": {},
   "outputs": [
    {
     "data": {
      "text/plain": [
       "(570, 15)"
      ]
     },
     "execution_count": 55,
     "metadata": {},
     "output_type": "execute_result"
    }
   ],
   "source": [
    "sales_data.shape"
   ]
  },
  {
   "cell_type": "code",
   "execution_count": 56,
   "metadata": {},
   "outputs": [
    {
     "data": {
      "text/html": [
       "<div>\n",
       "<style scoped>\n",
       "    .dataframe tbody tr th:only-of-type {\n",
       "        vertical-align: middle;\n",
       "    }\n",
       "\n",
       "    .dataframe tbody tr th {\n",
       "        vertical-align: top;\n",
       "    }\n",
       "\n",
       "    .dataframe thead th {\n",
       "        text-align: right;\n",
       "    }\n",
       "</style>\n",
       "<table border=\"1\" class=\"dataframe\">\n",
       "  <thead>\n",
       "    <tr style=\"text-align: right;\">\n",
       "      <th></th>\n",
       "      <th>order_id</th>\n",
       "      <th>customer_id</th>\n",
       "      <th>order_date</th>\n",
       "      <th>product_id</th>\n",
       "      <th>quantity</th>\n",
       "      <th>product_name</th>\n",
       "      <th>category</th>\n",
       "      <th>price</th>\n",
       "      <th>customer_name</th>\n",
       "      <th>email</th>\n",
       "      <th>join_date</th>\n",
       "      <th>year</th>\n",
       "      <th>month</th>\n",
       "      <th>day</th>\n",
       "      <th>total_revenue</th>\n",
       "    </tr>\n",
       "  </thead>\n",
       "  <tbody>\n",
       "    <tr>\n",
       "      <th>0</th>\n",
       "      <td>1</td>\n",
       "      <td>20</td>\n",
       "      <td>2024-11-01</td>\n",
       "      <td>3</td>\n",
       "      <td>2</td>\n",
       "      <td>Tablet</td>\n",
       "      <td>Electronics</td>\n",
       "      <td>450.0</td>\n",
       "      <td>Tina Young</td>\n",
       "      <td>tina@example.com</td>\n",
       "      <td>2023-12-22</td>\n",
       "      <td>2024</td>\n",
       "      <td>11</td>\n",
       "      <td>1</td>\n",
       "      <td>900.0</td>\n",
       "    </tr>\n",
       "    <tr>\n",
       "      <th>1</th>\n",
       "      <td>2</td>\n",
       "      <td>36</td>\n",
       "      <td>2024-11-01</td>\n",
       "      <td>1</td>\n",
       "      <td>1</td>\n",
       "      <td>Laptop</td>\n",
       "      <td>Electronics</td>\n",
       "      <td>1200.0</td>\n",
       "      <td>James Walker</td>\n",
       "      <td>james@example.com</td>\n",
       "      <td>2023-10-09</td>\n",
       "      <td>2024</td>\n",
       "      <td>11</td>\n",
       "      <td>1</td>\n",
       "      <td>1200.0</td>\n",
       "    </tr>\n",
       "    <tr>\n",
       "      <th>2</th>\n",
       "      <td>3</td>\n",
       "      <td>1</td>\n",
       "      <td>2024-11-01</td>\n",
       "      <td>8</td>\n",
       "      <td>3</td>\n",
       "      <td>Headphones</td>\n",
       "      <td>Electronics</td>\n",
       "      <td>150.0</td>\n",
       "      <td>Alice Johnson</td>\n",
       "      <td>alice@example.com</td>\n",
       "      <td>2023-01-15</td>\n",
       "      <td>2024</td>\n",
       "      <td>11</td>\n",
       "      <td>1</td>\n",
       "      <td>450.0</td>\n",
       "    </tr>\n",
       "    <tr>\n",
       "      <th>3</th>\n",
       "      <td>4</td>\n",
       "      <td>36</td>\n",
       "      <td>2024-11-02</td>\n",
       "      <td>6</td>\n",
       "      <td>1</td>\n",
       "      <td>Smartwatch</td>\n",
       "      <td>Electronics</td>\n",
       "      <td>200.0</td>\n",
       "      <td>James Walker</td>\n",
       "      <td>james@example.com</td>\n",
       "      <td>2023-10-09</td>\n",
       "      <td>2024</td>\n",
       "      <td>11</td>\n",
       "      <td>2</td>\n",
       "      <td>200.0</td>\n",
       "    </tr>\n",
       "    <tr>\n",
       "      <th>4</th>\n",
       "      <td>5</td>\n",
       "      <td>14</td>\n",
       "      <td>2024-11-02</td>\n",
       "      <td>12</td>\n",
       "      <td>2</td>\n",
       "      <td>Desk</td>\n",
       "      <td>Furniture</td>\n",
       "      <td>300.0</td>\n",
       "      <td>Nina Mitchell</td>\n",
       "      <td>nina@example.com</td>\n",
       "      <td>2023-10-02</td>\n",
       "      <td>2024</td>\n",
       "      <td>11</td>\n",
       "      <td>2</td>\n",
       "      <td>600.0</td>\n",
       "    </tr>\n",
       "    <tr>\n",
       "      <th>...</th>\n",
       "      <td>...</td>\n",
       "      <td>...</td>\n",
       "      <td>...</td>\n",
       "      <td>...</td>\n",
       "      <td>...</td>\n",
       "      <td>...</td>\n",
       "      <td>...</td>\n",
       "      <td>...</td>\n",
       "      <td>...</td>\n",
       "      <td>...</td>\n",
       "      <td>...</td>\n",
       "      <td>...</td>\n",
       "      <td>...</td>\n",
       "      <td>...</td>\n",
       "      <td>...</td>\n",
       "    </tr>\n",
       "    <tr>\n",
       "      <th>565</th>\n",
       "      <td>666</td>\n",
       "      <td>41</td>\n",
       "      <td>2025-03-08</td>\n",
       "      <td>7</td>\n",
       "      <td>1</td>\n",
       "      <td>Camera</td>\n",
       "      <td>Electronics</td>\n",
       "      <td>650.0</td>\n",
       "      <td>Oscar Parker</td>\n",
       "      <td>oscar@example.com</td>\n",
       "      <td>2023-01-20</td>\n",
       "      <td>2025</td>\n",
       "      <td>3</td>\n",
       "      <td>8</td>\n",
       "      <td>650.0</td>\n",
       "    </tr>\n",
       "    <tr>\n",
       "      <th>566</th>\n",
       "      <td>667</td>\n",
       "      <td>5</td>\n",
       "      <td>2025-03-08</td>\n",
       "      <td>30</td>\n",
       "      <td>2</td>\n",
       "      <td>Tea</td>\n",
       "      <td>Food</td>\n",
       "      <td>3.5</td>\n",
       "      <td>Eve Parker</td>\n",
       "      <td>eve@example.com</td>\n",
       "      <td>2023-04-01</td>\n",
       "      <td>2025</td>\n",
       "      <td>3</td>\n",
       "      <td>8</td>\n",
       "      <td>7.0</td>\n",
       "    </tr>\n",
       "    <tr>\n",
       "      <th>567</th>\n",
       "      <td>668</td>\n",
       "      <td>16</td>\n",
       "      <td>2025-03-09</td>\n",
       "      <td>50</td>\n",
       "      <td>3</td>\n",
       "      <td>Jeans</td>\n",
       "      <td>Clothing</td>\n",
       "      <td>40.0</td>\n",
       "      <td>Paul Carter</td>\n",
       "      <td>paul@example.com</td>\n",
       "      <td>2023-11-01</td>\n",
       "      <td>2025</td>\n",
       "      <td>3</td>\n",
       "      <td>9</td>\n",
       "      <td>120.0</td>\n",
       "    </tr>\n",
       "    <tr>\n",
       "      <th>568</th>\n",
       "      <td>669</td>\n",
       "      <td>31</td>\n",
       "      <td>2025-03-09</td>\n",
       "      <td>19</td>\n",
       "      <td>1</td>\n",
       "      <td>Microwave</td>\n",
       "      <td>Home Appliances</td>\n",
       "      <td>150.0</td>\n",
       "      <td>Elena Hughes</td>\n",
       "      <td>elena@example.com</td>\n",
       "      <td>2023-07-26</td>\n",
       "      <td>2025</td>\n",
       "      <td>3</td>\n",
       "      <td>9</td>\n",
       "      <td>150.0</td>\n",
       "    </tr>\n",
       "    <tr>\n",
       "      <th>569</th>\n",
       "      <td>670</td>\n",
       "      <td>2</td>\n",
       "      <td>2025-03-09</td>\n",
       "      <td>33</td>\n",
       "      <td>2</td>\n",
       "      <td>Juice</td>\n",
       "      <td>Food</td>\n",
       "      <td>2.0</td>\n",
       "      <td>Bob Smith</td>\n",
       "      <td>bob@example.com</td>\n",
       "      <td>2023-02-20</td>\n",
       "      <td>2025</td>\n",
       "      <td>3</td>\n",
       "      <td>9</td>\n",
       "      <td>4.0</td>\n",
       "    </tr>\n",
       "  </tbody>\n",
       "</table>\n",
       "<p>570 rows × 15 columns</p>\n",
       "</div>"
      ],
      "text/plain": [
       "     order_id  customer_id order_date  product_id  quantity product_name  \\\n",
       "0           1           20 2024-11-01           3         2       Tablet   \n",
       "1           2           36 2024-11-01           1         1       Laptop   \n",
       "2           3            1 2024-11-01           8         3   Headphones   \n",
       "3           4           36 2024-11-02           6         1   Smartwatch   \n",
       "4           5           14 2024-11-02          12         2         Desk   \n",
       "..        ...          ...        ...         ...       ...          ...   \n",
       "565       666           41 2025-03-08           7         1       Camera   \n",
       "566       667            5 2025-03-08          30         2          Tea   \n",
       "567       668           16 2025-03-09          50         3        Jeans   \n",
       "568       669           31 2025-03-09          19         1    Microwave   \n",
       "569       670            2 2025-03-09          33         2        Juice   \n",
       "\n",
       "            category   price  customer_name              email  join_date  \\\n",
       "0        Electronics   450.0     Tina Young   tina@example.com 2023-12-22   \n",
       "1        Electronics  1200.0   James Walker  james@example.com 2023-10-09   \n",
       "2        Electronics   150.0  Alice Johnson  alice@example.com 2023-01-15   \n",
       "3        Electronics   200.0   James Walker  james@example.com 2023-10-09   \n",
       "4          Furniture   300.0  Nina Mitchell   nina@example.com 2023-10-02   \n",
       "..               ...     ...            ...                ...        ...   \n",
       "565      Electronics   650.0   Oscar Parker  oscar@example.com 2023-01-20   \n",
       "566             Food     3.5     Eve Parker    eve@example.com 2023-04-01   \n",
       "567         Clothing    40.0    Paul Carter   paul@example.com 2023-11-01   \n",
       "568  Home Appliances   150.0   Elena Hughes  elena@example.com 2023-07-26   \n",
       "569             Food     2.0      Bob Smith    bob@example.com 2023-02-20   \n",
       "\n",
       "     year  month  day  total_revenue  \n",
       "0    2024     11    1          900.0  \n",
       "1    2024     11    1         1200.0  \n",
       "2    2024     11    1          450.0  \n",
       "3    2024     11    2          200.0  \n",
       "4    2024     11    2          600.0  \n",
       "..    ...    ...  ...            ...  \n",
       "565  2025      3    8          650.0  \n",
       "566  2025      3    8            7.0  \n",
       "567  2025      3    9          120.0  \n",
       "568  2025      3    9          150.0  \n",
       "569  2025      3    9            4.0  \n",
       "\n",
       "[570 rows x 15 columns]"
      ]
     },
     "execution_count": 56,
     "metadata": {},
     "output_type": "execute_result"
    }
   ],
   "source": [
    "sales_data"
   ]
  },
  {
   "cell_type": "code",
   "execution_count": 57,
   "metadata": {},
   "outputs": [
    {
     "name": "stdout",
     "output_type": "stream",
     "text": [
      "Missing Values in order_id: 0\n",
      "No missing values in column: 'order_id'\n",
      "Missing Values in customer_id: 0\n",
      "No missing values in column: 'customer_id'\n",
      "Missing Values in order_date: 0\n",
      "No missing values in column: 'order_date'\n",
      "Missing Values in product_id: 0\n",
      "No missing values in column: 'product_id'\n",
      "Missing Values in quantity: 0\n",
      "No missing values in column: 'quantity'\n",
      "Missing Values in product_name: 0\n",
      "No missing values in column: 'product_name'\n",
      "Missing Values in category: 0\n",
      "No missing values in column: 'category'\n",
      "Missing Values in price: 0\n",
      "No missing values in column: 'price'\n",
      "Missing Values in customer_name: 0\n",
      "No missing values in column: 'customer_name'\n",
      "Missing Values in email: 0\n",
      "No missing values in column: 'email'\n",
      "Missing Values in join_date: 0\n",
      "No missing values in column: 'join_date'\n",
      "Missing Values in year: 0\n",
      "No missing values in column: 'year'\n",
      "Missing Values in month: 0\n",
      "No missing values in column: 'month'\n",
      "Missing Values in day: 0\n",
      "No missing values in column: 'day'\n",
      "Missing Values in total_revenue: 0\n",
      "No missing values in column: 'total_revenue'\n"
     ]
    }
   ],
   "source": [
    "handle_missing_data(sales_data)"
   ]
  },
  {
   "cell_type": "code",
   "execution_count": 58,
   "metadata": {},
   "outputs": [
    {
     "name": "stdout",
     "output_type": "stream",
     "text": [
      "Total duplicated rows: 0\n",
      "No duplicated rows found\n"
     ]
    }
   ],
   "source": [
    "handle_duplicated_values(sales_data)"
   ]
  },
  {
   "cell_type": "code",
   "execution_count": 59,
   "metadata": {},
   "outputs": [],
   "source": [
    "insert_sales_data(sales_data)"
   ]
  },
  {
   "cell_type": "code",
   "execution_count": 60,
   "metadata": {},
   "outputs": [],
   "source": [
    "\n",
    "def insert_customer_data(customer_data):\n",
    "    try:\n",
    "        if connection.is_connected():\n",
    "            cursor = connection.cursor()\n",
    "            insert_query = \"\"\"\n",
    "            INSERT INTO customer (customer_id, customer_name, email, join_date)\n",
    "            VALUES (%s, %s, %s, %s);\n",
    "            \"\"\"\n",
    "            data_to_insert = []\n",
    "\n",
    "            for index, row in customer_data.iterrows():\n",
    "                data_to_insert.append((\n",
    "                    row['customer_id'], row['customer_name'], row['email'], row['join_date']\n",
    "                ))\n",
    "\n",
    "            cursor.executemany(insert_query, data_to_insert)\n",
    "            connection.commit()\n",
    "\n",
    "    except Error as e:\n",
    "        print(f\"Error: {e}\")\n",
    "        connection.rollback()\n",
    "\n",
    "    finally:\n",
    "        if connection and connection.is_connected():\n",
    "            cursor.close()\n",
    "\n",
    "# Example usage:\n",
    "# insert_sales_data(sales_data)"
   ]
  },
  {
   "cell_type": "code",
   "execution_count": 61,
   "metadata": {},
   "outputs": [],
   "source": [
    "insert_customer_data(customer_data)"
   ]
  },
  {
   "cell_type": "code",
   "execution_count": 62,
   "metadata": {},
   "outputs": [],
   "source": [
    "\n",
    "def insert_inventory_data(inventory_data):\n",
    "    try:\n",
    "        if connection.is_connected():\n",
    "            cursor = connection.cursor()\n",
    "            insert_query = \"\"\"\n",
    "            INSERT INTO inventory (product_name, stock_quantity, stock_date, supplier, warehouse_location)\n",
    "            VALUES (%s, %s, %s, %s, %s);\n",
    "            \"\"\"\n",
    "            data_to_insert = []\n",
    "\n",
    "            for index, row in inventory_data.iterrows():\n",
    "                data_to_insert.append((\n",
    "                    row['product_name'], row['stock_quantity'], row['stock_date'], row['supplier'], row['warehouse_location']\n",
    "                ))\n",
    "\n",
    "            cursor.executemany(insert_query, data_to_insert)\n",
    "            connection.commit()\n",
    "\n",
    "    except Error as e:\n",
    "        print(f\"Error: {e}\")\n",
    "        connection.rollback()\n",
    "\n",
    "    finally:\n",
    "        if connection and connection.is_connected():\n",
    "            cursor.close()\n",
    "\n",
    "# Example usage:\n",
    "# insert_sales_data(sales_data)"
   ]
  },
  {
   "cell_type": "code",
   "execution_count": 63,
   "metadata": {},
   "outputs": [],
   "source": [
    "insert_inventory_data(inventory_data)"
   ]
  },
  {
   "cell_type": "code",
   "execution_count": 75,
   "metadata": {},
   "outputs": [],
   "source": [
    "\n",
    "def insert_order_items_data(order_items_data):\n",
    "    try:\n",
    "        if connection.is_connected():\n",
    "            cursor = connection.cursor()\n",
    "            insert_query = \"\"\"\n",
    "            INSERT INTO order_items (order_detail_id,order_id,quantity,product_id)\n",
    "            VALUES (%s, %s, %s, %s);\n",
    "            \"\"\"\n",
    "            data_to_insert = []\n",
    "\n",
    "            for index, row in order_items_data.iterrows():\n",
    "                data_to_insert.append((\n",
    "                    int(row['order_detail_id']), int(row['order_id']), int(row['quantity']), int(row['product_id'])\n",
    "                ))\n",
    "\n",
    "            cursor.executemany(insert_query, data_to_insert)\n",
    "            connection.commit()\n",
    "\n",
    "    except Error as e:\n",
    "        print(f\"Error: {e}\")\n",
    "        connection.rollback()\n",
    "\n",
    "    finally:\n",
    "        if connection and connection.is_connected():\n",
    "            cursor.close()\n",
    "\n",
    "# Example usage:\n",
    "# insert_sales_data(sales_data)"
   ]
  },
  {
   "cell_type": "code",
   "execution_count": 76,
   "metadata": {},
   "outputs": [],
   "source": [
    "insert_order_items_data(order_items_data)"
   ]
  },
  {
   "cell_type": "code",
   "execution_count": null,
   "metadata": {},
   "outputs": [],
   "source": [
    "\n",
    "def insert_orders_data(orders_data):\n",
    "    try:\n",
    "        if connection.is_connected():\n",
    "            cursor = connection.cursor()\n",
    "            insert_query = \"\"\"\n",
    "            INSERT INTO orders (order_id,customer_id,order_date,product_id,quantity)\n",
    "            VALUES (%s, %s, %s, %s, %s);\n",
    "            \"\"\"\n",
    "            data_to_insert = []\n",
    "\n",
    "            for index, row in orders_data.iterrows():\n",
    "                data_to_insert.append((\n",
    "                    row['order_id'], row['customer_id'], row['order_date'], row['product_id'], row['quantity']\n",
    "                ))\n",
    "\n",
    "            cursor.executemany(insert_query, data_to_insert)\n",
    "            connection.commit()\n",
    "\n",
    "    except Error as e:\n",
    "        print(f\"Error: {e}\")\n",
    "        connection.rollback()\n",
    "\n",
    "    finally:\n",
    "        if connection and connection.is_connected():\n",
    "            cursor.close()\n",
    "\n",
    "# Example usage:\n",
    "# insert_sales_data(sales_data)"
   ]
  },
  {
   "cell_type": "code",
   "execution_count": 67,
   "metadata": {},
   "outputs": [],
   "source": [
    "insert_orders_data(orders_data)"
   ]
  },
  {
   "cell_type": "code",
   "execution_count": 68,
   "metadata": {},
   "outputs": [
    {
     "data": {
      "text/plain": [
       "Index(['order_id', 'customer_id', 'order_date', 'product_id', 'quantity'], dtype='object')"
      ]
     },
     "execution_count": 68,
     "metadata": {},
     "output_type": "execute_result"
    }
   ],
   "source": [
    "orders_data.columns\n"
   ]
  },
  {
   "cell_type": "code",
   "execution_count": 69,
   "metadata": {},
   "outputs": [],
   "source": [
    "\n",
    "def insert_products_data(products_data):\n",
    "    try:\n",
    "        if connection.is_connected():\n",
    "            cursor = connection.cursor()\n",
    "            insert_query = \"\"\"\n",
    "            INSERT INTO products (product_id,product_name,category,price)\n",
    "            VALUES (%s, %s, %s, %s);\n",
    "            \"\"\"\n",
    "            data_to_insert = []\n",
    "\n",
    "            for index, row in products_data.iterrows():\n",
    "                data_to_insert.append((\n",
    "                    row['product_id'], row['product_name'], row['category'], row['price']\n",
    "                ))\n",
    "\n",
    "            cursor.executemany(insert_query, data_to_insert)\n",
    "            connection.commit()\n",
    "\n",
    "    except Error as e:\n",
    "        print(f\"Error: {e}\")\n",
    "        connection.rollback()\n",
    "\n",
    "    finally:\n",
    "        if connection and connection.is_connected():\n",
    "            cursor.close()\n",
    "\n",
    "# Example usage:\n",
    "# insert_sales_data(sales_data)"
   ]
  },
  {
   "cell_type": "code",
   "execution_count": 70,
   "metadata": {},
   "outputs": [],
   "source": [
    "insert_products_data(products_data)"
   ]
  },
  {
   "cell_type": "code",
   "execution_count": 71,
   "metadata": {},
   "outputs": [
    {
     "data": {
      "text/plain": [
       "Index(['product_id', 'product_name', 'category', 'price'], dtype='object')"
      ]
     },
     "execution_count": 71,
     "metadata": {},
     "output_type": "execute_result"
    }
   ],
   "source": [
    "products_data.columns"
   ]
  },
  {
   "cell_type": "code",
   "execution_count": null,
   "metadata": {},
   "outputs": [],
   "source": [
    "\n",
    "def insert_suppliers_data(suppliers_data):\n",
    "    try:\n",
    "        if connection.is_connected():\n",
    "            cursor = connection.cursor()\n",
    "            insert_query = \"\"\"\n",
    "            INSERT INTO suppliers (supplier_name,supplier_address,email,contact_number,fax,account_number,order_history,contract,supplier_country,supplier_city,country_code)\n",
    "            VALUES (%s, %s, %s, %s, %s, %s, %s, %s, %s, %s, %s);\n",
    "            \"\"\"\n",
    "            data_to_insert = []\n",
    "\n",
    "            for index, row in suppliers_data.iterrows():\n",
    "                data_to_insert.append((\n",
    "                    row['supplier_name'], row['supplier_address'], row['email'], row['contact_number'], row['fax'], row['account_number'], row['order_history'], row['contract'], row['supplier_country'],\n",
    "                    row['supplier_city'], row['country_code']\n",
    "                ))\n",
    "\n",
    "            cursor.executemany(insert_query, data_to_insert)\n",
    "            connection.commit()\n",
    "\n",
    "    except Error as e:\n",
    "        print(f\"Error: {e}\")\n",
    "        connection.rollback()\n",
    "\n",
    "    finally:\n",
    "        if connection and connection.is_connected():\n",
    "            cursor.close()\n"
   ]
  },
  {
   "cell_type": "code",
   "execution_count": 73,
   "metadata": {},
   "outputs": [],
   "source": [
    "insert_suppliers_data(suppliers_data)"
   ]
  },
  {
   "cell_type": "code",
   "execution_count": null,
   "metadata": {},
   "outputs": [],
   "source": []
  }
 ],
 "metadata": {
  "kernelspec": {
   "display_name": "base",
   "language": "python",
   "name": "python3"
  },
  "language_info": {
   "codemirror_mode": {
    "name": "ipython",
    "version": 3
   },
   "file_extension": ".py",
   "mimetype": "text/x-python",
   "name": "python",
   "nbconvert_exporter": "python",
   "pygments_lexer": "ipython3",
   "version": "3.12.7"
  }
 },
 "nbformat": 4,
 "nbformat_minor": 2
}
